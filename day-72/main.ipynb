{
 "cells": [
  {
   "cell_type": "code",
   "execution_count": 1,
   "id": "initial_id",
   "metadata": {
    "collapsed": true,
    "ExecuteTime": {
     "end_time": "2023-10-05T19:44:49.028141Z",
     "start_time": "2023-10-05T19:44:48.631446Z"
    }
   },
   "outputs": [],
   "source": [
    "import pandas as pd"
   ]
  },
  {
   "cell_type": "code",
   "execution_count": 2,
   "outputs": [],
   "source": [
    "df = pd.read_csv('data/salaries_by_college_major.csv')"
   ],
   "metadata": {
    "collapsed": false,
    "ExecuteTime": {
     "end_time": "2023-10-05T19:45:44.373460Z",
     "start_time": "2023-10-05T19:45:44.360192Z"
    }
   },
   "id": "b6d555e4b1606b79"
  },
  {
   "cell_type": "code",
   "execution_count": 3,
   "outputs": [
    {
     "data": {
      "text/plain": "     Undergraduate Major  Starting Median Salary  Mid-Career Median Salary  \\\n0             Accounting                 46000.0                   77100.0   \n1  Aerospace Engineering                 57700.0                  101000.0   \n2            Agriculture                 42600.0                   71900.0   \n3           Anthropology                 36800.0                   61500.0   \n4           Architecture                 41600.0                   76800.0   \n\n   Mid-Career 10th Percentile Salary  Mid-Career 90th Percentile Salary  \\\n0                            42200.0                           152000.0   \n1                            64300.0                           161000.0   \n2                            36300.0                           150000.0   \n3                            33800.0                           138000.0   \n4                            50600.0                           136000.0   \n\n      Group  \n0  Business  \n1      STEM  \n2  Business  \n3      HASS  \n4  Business  ",
      "text/html": "<div>\n<style scoped>\n    .dataframe tbody tr th:only-of-type {\n        vertical-align: middle;\n    }\n\n    .dataframe tbody tr th {\n        vertical-align: top;\n    }\n\n    .dataframe thead th {\n        text-align: right;\n    }\n</style>\n<table border=\"1\" class=\"dataframe\">\n  <thead>\n    <tr style=\"text-align: right;\">\n      <th></th>\n      <th>Undergraduate Major</th>\n      <th>Starting Median Salary</th>\n      <th>Mid-Career Median Salary</th>\n      <th>Mid-Career 10th Percentile Salary</th>\n      <th>Mid-Career 90th Percentile Salary</th>\n      <th>Group</th>\n    </tr>\n  </thead>\n  <tbody>\n    <tr>\n      <th>0</th>\n      <td>Accounting</td>\n      <td>46000.0</td>\n      <td>77100.0</td>\n      <td>42200.0</td>\n      <td>152000.0</td>\n      <td>Business</td>\n    </tr>\n    <tr>\n      <th>1</th>\n      <td>Aerospace Engineering</td>\n      <td>57700.0</td>\n      <td>101000.0</td>\n      <td>64300.0</td>\n      <td>161000.0</td>\n      <td>STEM</td>\n    </tr>\n    <tr>\n      <th>2</th>\n      <td>Agriculture</td>\n      <td>42600.0</td>\n      <td>71900.0</td>\n      <td>36300.0</td>\n      <td>150000.0</td>\n      <td>Business</td>\n    </tr>\n    <tr>\n      <th>3</th>\n      <td>Anthropology</td>\n      <td>36800.0</td>\n      <td>61500.0</td>\n      <td>33800.0</td>\n      <td>138000.0</td>\n      <td>HASS</td>\n    </tr>\n    <tr>\n      <th>4</th>\n      <td>Architecture</td>\n      <td>41600.0</td>\n      <td>76800.0</td>\n      <td>50600.0</td>\n      <td>136000.0</td>\n      <td>Business</td>\n    </tr>\n  </tbody>\n</table>\n</div>"
     },
     "execution_count": 3,
     "metadata": {},
     "output_type": "execute_result"
    }
   ],
   "source": [
    "df.head()"
   ],
   "metadata": {
    "collapsed": false,
    "ExecuteTime": {
     "end_time": "2023-10-05T19:45:49.658758Z",
     "start_time": "2023-10-05T19:45:49.635088Z"
    }
   },
   "id": "c461a89b81436baa"
  },
  {
   "cell_type": "code",
   "execution_count": 4,
   "outputs": [
    {
     "data": {
      "text/plain": "(51, 6)"
     },
     "execution_count": 4,
     "metadata": {},
     "output_type": "execute_result"
    }
   ],
   "source": [
    "df.shape"
   ],
   "metadata": {
    "collapsed": false,
    "ExecuteTime": {
     "end_time": "2023-10-05T19:49:40.230252Z",
     "start_time": "2023-10-05T19:49:40.214224Z"
    }
   },
   "id": "19119c7c3d671f80"
  },
  {
   "cell_type": "code",
   "execution_count": 5,
   "outputs": [
    {
     "data": {
      "text/plain": "Index(['Undergraduate Major', 'Starting Median Salary',\n       'Mid-Career Median Salary', 'Mid-Career 10th Percentile Salary',\n       'Mid-Career 90th Percentile Salary', 'Group'],\n      dtype='object')"
     },
     "execution_count": 5,
     "metadata": {},
     "output_type": "execute_result"
    }
   ],
   "source": [
    "df.columns"
   ],
   "metadata": {
    "collapsed": false,
    "ExecuteTime": {
     "end_time": "2023-10-05T19:49:44.739624Z",
     "start_time": "2023-10-05T19:49:44.732275Z"
    }
   },
   "id": "60533e6bfce34da6"
  },
  {
   "cell_type": "code",
   "execution_count": 6,
   "outputs": [
    {
     "data": {
      "text/plain": "Undergraduate Major                  0\nStarting Median Salary               1\nMid-Career Median Salary             1\nMid-Career 10th Percentile Salary    1\nMid-Career 90th Percentile Salary    1\nGroup                                1\ndtype: int64"
     },
     "execution_count": 6,
     "metadata": {},
     "output_type": "execute_result"
    }
   ],
   "source": [
    "df.isna().sum()"
   ],
   "metadata": {
    "collapsed": false,
    "ExecuteTime": {
     "end_time": "2023-10-05T19:50:12.557180Z",
     "start_time": "2023-10-05T19:50:12.554659Z"
    }
   },
   "id": "b874b4e0accaddf2"
  },
  {
   "cell_type": "code",
   "execution_count": 7,
   "outputs": [
    {
     "data": {
      "text/plain": "      Undergraduate Major  Starting Median Salary  Mid-Career Median Salary  \\\n46             Psychology                 35900.0                   60400.0   \n47               Religion                 34100.0                   52000.0   \n48              Sociology                 36500.0                   58200.0   \n49                Spanish                 34000.0                   53100.0   \n50  Source: PayScale Inc.                     NaN                       NaN   \n\n    Mid-Career 10th Percentile Salary  Mid-Career 90th Percentile Salary Group  \n46                            31600.0                           127000.0  HASS  \n47                            29700.0                            96400.0  HASS  \n48                            30700.0                           118000.0  HASS  \n49                            31000.0                            96400.0  HASS  \n50                                NaN                                NaN   NaN  ",
      "text/html": "<div>\n<style scoped>\n    .dataframe tbody tr th:only-of-type {\n        vertical-align: middle;\n    }\n\n    .dataframe tbody tr th {\n        vertical-align: top;\n    }\n\n    .dataframe thead th {\n        text-align: right;\n    }\n</style>\n<table border=\"1\" class=\"dataframe\">\n  <thead>\n    <tr style=\"text-align: right;\">\n      <th></th>\n      <th>Undergraduate Major</th>\n      <th>Starting Median Salary</th>\n      <th>Mid-Career Median Salary</th>\n      <th>Mid-Career 10th Percentile Salary</th>\n      <th>Mid-Career 90th Percentile Salary</th>\n      <th>Group</th>\n    </tr>\n  </thead>\n  <tbody>\n    <tr>\n      <th>46</th>\n      <td>Psychology</td>\n      <td>35900.0</td>\n      <td>60400.0</td>\n      <td>31600.0</td>\n      <td>127000.0</td>\n      <td>HASS</td>\n    </tr>\n    <tr>\n      <th>47</th>\n      <td>Religion</td>\n      <td>34100.0</td>\n      <td>52000.0</td>\n      <td>29700.0</td>\n      <td>96400.0</td>\n      <td>HASS</td>\n    </tr>\n    <tr>\n      <th>48</th>\n      <td>Sociology</td>\n      <td>36500.0</td>\n      <td>58200.0</td>\n      <td>30700.0</td>\n      <td>118000.0</td>\n      <td>HASS</td>\n    </tr>\n    <tr>\n      <th>49</th>\n      <td>Spanish</td>\n      <td>34000.0</td>\n      <td>53100.0</td>\n      <td>31000.0</td>\n      <td>96400.0</td>\n      <td>HASS</td>\n    </tr>\n    <tr>\n      <th>50</th>\n      <td>Source: PayScale Inc.</td>\n      <td>NaN</td>\n      <td>NaN</td>\n      <td>NaN</td>\n      <td>NaN</td>\n      <td>NaN</td>\n    </tr>\n  </tbody>\n</table>\n</div>"
     },
     "execution_count": 7,
     "metadata": {},
     "output_type": "execute_result"
    }
   ],
   "source": [
    "df.tail()"
   ],
   "metadata": {
    "collapsed": false,
    "ExecuteTime": {
     "end_time": "2023-10-05T19:50:47.455946Z",
     "start_time": "2023-10-05T19:50:47.448265Z"
    }
   },
   "id": "b53d213615b94d6"
  },
  {
   "cell_type": "code",
   "execution_count": 8,
   "outputs": [
    {
     "data": {
      "text/plain": "   Undergraduate Major  Starting Median Salary  Mid-Career Median Salary  \\\n45   Political Science                 40800.0                   78200.0   \n46          Psychology                 35900.0                   60400.0   \n47            Religion                 34100.0                   52000.0   \n48           Sociology                 36500.0                   58200.0   \n49             Spanish                 34000.0                   53100.0   \n\n    Mid-Career 10th Percentile Salary  Mid-Career 90th Percentile Salary Group  \n45                            41200.0                           168000.0  HASS  \n46                            31600.0                           127000.0  HASS  \n47                            29700.0                            96400.0  HASS  \n48                            30700.0                           118000.0  HASS  \n49                            31000.0                            96400.0  HASS  ",
      "text/html": "<div>\n<style scoped>\n    .dataframe tbody tr th:only-of-type {\n        vertical-align: middle;\n    }\n\n    .dataframe tbody tr th {\n        vertical-align: top;\n    }\n\n    .dataframe thead th {\n        text-align: right;\n    }\n</style>\n<table border=\"1\" class=\"dataframe\">\n  <thead>\n    <tr style=\"text-align: right;\">\n      <th></th>\n      <th>Undergraduate Major</th>\n      <th>Starting Median Salary</th>\n      <th>Mid-Career Median Salary</th>\n      <th>Mid-Career 10th Percentile Salary</th>\n      <th>Mid-Career 90th Percentile Salary</th>\n      <th>Group</th>\n    </tr>\n  </thead>\n  <tbody>\n    <tr>\n      <th>45</th>\n      <td>Political Science</td>\n      <td>40800.0</td>\n      <td>78200.0</td>\n      <td>41200.0</td>\n      <td>168000.0</td>\n      <td>HASS</td>\n    </tr>\n    <tr>\n      <th>46</th>\n      <td>Psychology</td>\n      <td>35900.0</td>\n      <td>60400.0</td>\n      <td>31600.0</td>\n      <td>127000.0</td>\n      <td>HASS</td>\n    </tr>\n    <tr>\n      <th>47</th>\n      <td>Religion</td>\n      <td>34100.0</td>\n      <td>52000.0</td>\n      <td>29700.0</td>\n      <td>96400.0</td>\n      <td>HASS</td>\n    </tr>\n    <tr>\n      <th>48</th>\n      <td>Sociology</td>\n      <td>36500.0</td>\n      <td>58200.0</td>\n      <td>30700.0</td>\n      <td>118000.0</td>\n      <td>HASS</td>\n    </tr>\n    <tr>\n      <th>49</th>\n      <td>Spanish</td>\n      <td>34000.0</td>\n      <td>53100.0</td>\n      <td>31000.0</td>\n      <td>96400.0</td>\n      <td>HASS</td>\n    </tr>\n  </tbody>\n</table>\n</div>"
     },
     "execution_count": 8,
     "metadata": {},
     "output_type": "execute_result"
    }
   ],
   "source": [
    "clean_df = df.dropna()\n",
    "clean_df.tail()"
   ],
   "metadata": {
    "collapsed": false,
    "ExecuteTime": {
     "end_time": "2023-10-05T19:51:22.365752Z",
     "start_time": "2023-10-05T19:51:22.320453Z"
    }
   },
   "id": "8dafda138327cca7"
  },
  {
   "cell_type": "code",
   "execution_count": 10,
   "outputs": [
    {
     "data": {
      "text/plain": "74300.0"
     },
     "execution_count": 10,
     "metadata": {},
     "output_type": "execute_result"
    }
   ],
   "source": [
    "clean_df['Starting Median Salary'].max()"
   ],
   "metadata": {
    "collapsed": false,
    "ExecuteTime": {
     "end_time": "2023-10-05T19:52:11.932820Z",
     "start_time": "2023-10-05T19:52:11.927364Z"
    }
   },
   "id": "9e7d4e6b0a9b9851"
  },
  {
   "cell_type": "code",
   "execution_count": 11,
   "outputs": [
    {
     "data": {
      "text/plain": "43"
     },
     "execution_count": 11,
     "metadata": {},
     "output_type": "execute_result"
    }
   ],
   "source": [
    "clean_df['Starting Median Salary'].idxmax()"
   ],
   "metadata": {
    "collapsed": false,
    "ExecuteTime": {
     "end_time": "2023-10-05T19:52:23.674657Z",
     "start_time": "2023-10-05T19:52:23.651219Z"
    }
   },
   "id": "9f16bd34362e53c6"
  },
  {
   "cell_type": "code",
   "execution_count": 13,
   "outputs": [
    {
     "data": {
      "text/plain": "'Physician Assistant'"
     },
     "execution_count": 13,
     "metadata": {},
     "output_type": "execute_result"
    }
   ],
   "source": [
    "clean_df['Undergraduate Major'].loc[43]"
   ],
   "metadata": {
    "collapsed": false,
    "ExecuteTime": {
     "end_time": "2023-10-05T19:53:05.215844Z",
     "start_time": "2023-10-05T19:53:05.212466Z"
    }
   },
   "id": "154ec3af7e291d39"
  },
  {
   "cell_type": "code",
   "execution_count": 14,
   "outputs": [
    {
     "data": {
      "text/plain": "'Physician Assistant'"
     },
     "execution_count": 14,
     "metadata": {},
     "output_type": "execute_result"
    }
   ],
   "source": [
    "clean_df['Undergraduate Major'][43]"
   ],
   "metadata": {
    "collapsed": false,
    "ExecuteTime": {
     "end_time": "2023-10-05T19:53:27.607789Z",
     "start_time": "2023-10-05T19:53:27.601180Z"
    }
   },
   "id": "d10cf204178c5973"
  },
  {
   "cell_type": "code",
   "execution_count": 16,
   "outputs": [
    {
     "data": {
      "text/plain": "Undergraduate Major                  Physician Assistant\nStarting Median Salary                           74300.0\nMid-Career Median Salary                         91700.0\nMid-Career 10th Percentile Salary                66400.0\nMid-Career 90th Percentile Salary               124000.0\nGroup                                               STEM\nName: 43, dtype: object"
     },
     "execution_count": 16,
     "metadata": {},
     "output_type": "execute_result"
    }
   ],
   "source": [
    "clean_df.loc[43]"
   ],
   "metadata": {
    "collapsed": false,
    "ExecuteTime": {
     "end_time": "2023-10-05T19:53:48.323869Z",
     "start_time": "2023-10-05T19:53:48.315091Z"
    }
   },
   "id": "275d37ee7b4060c4"
  },
  {
   "cell_type": "code",
   "execution_count": 17,
   "outputs": [
    {
     "data": {
      "text/plain": "     Undergraduate Major    Spread  Starting Median Salary  \\\n0             Accounting  109800.0                 46000.0   \n1  Aerospace Engineering   96700.0                 57700.0   \n2            Agriculture  113700.0                 42600.0   \n3           Anthropology  104200.0                 36800.0   \n4           Architecture   85400.0                 41600.0   \n\n   Mid-Career Median Salary  Mid-Career 10th Percentile Salary  \\\n0                   77100.0                            42200.0   \n1                  101000.0                            64300.0   \n2                   71900.0                            36300.0   \n3                   61500.0                            33800.0   \n4                   76800.0                            50600.0   \n\n   Mid-Career 90th Percentile Salary     Group  \n0                           152000.0  Business  \n1                           161000.0      STEM  \n2                           150000.0  Business  \n3                           138000.0      HASS  \n4                           136000.0  Business  ",
      "text/html": "<div>\n<style scoped>\n    .dataframe tbody tr th:only-of-type {\n        vertical-align: middle;\n    }\n\n    .dataframe tbody tr th {\n        vertical-align: top;\n    }\n\n    .dataframe thead th {\n        text-align: right;\n    }\n</style>\n<table border=\"1\" class=\"dataframe\">\n  <thead>\n    <tr style=\"text-align: right;\">\n      <th></th>\n      <th>Undergraduate Major</th>\n      <th>Spread</th>\n      <th>Starting Median Salary</th>\n      <th>Mid-Career Median Salary</th>\n      <th>Mid-Career 10th Percentile Salary</th>\n      <th>Mid-Career 90th Percentile Salary</th>\n      <th>Group</th>\n    </tr>\n  </thead>\n  <tbody>\n    <tr>\n      <th>0</th>\n      <td>Accounting</td>\n      <td>109800.0</td>\n      <td>46000.0</td>\n      <td>77100.0</td>\n      <td>42200.0</td>\n      <td>152000.0</td>\n      <td>Business</td>\n    </tr>\n    <tr>\n      <th>1</th>\n      <td>Aerospace Engineering</td>\n      <td>96700.0</td>\n      <td>57700.0</td>\n      <td>101000.0</td>\n      <td>64300.0</td>\n      <td>161000.0</td>\n      <td>STEM</td>\n    </tr>\n    <tr>\n      <th>2</th>\n      <td>Agriculture</td>\n      <td>113700.0</td>\n      <td>42600.0</td>\n      <td>71900.0</td>\n      <td>36300.0</td>\n      <td>150000.0</td>\n      <td>Business</td>\n    </tr>\n    <tr>\n      <th>3</th>\n      <td>Anthropology</td>\n      <td>104200.0</td>\n      <td>36800.0</td>\n      <td>61500.0</td>\n      <td>33800.0</td>\n      <td>138000.0</td>\n      <td>HASS</td>\n    </tr>\n    <tr>\n      <th>4</th>\n      <td>Architecture</td>\n      <td>85400.0</td>\n      <td>41600.0</td>\n      <td>76800.0</td>\n      <td>50600.0</td>\n      <td>136000.0</td>\n      <td>Business</td>\n    </tr>\n  </tbody>\n</table>\n</div>"
     },
     "execution_count": 17,
     "metadata": {},
     "output_type": "execute_result"
    }
   ],
   "source": [
    "spread_col = clean_df['Mid-Career 90th Percentile Salary'] - clean_df['Mid-Career 10th Percentile Salary']\n",
    "clean_df.insert(1, 'Spread', spread_col)\n",
    "clean_df.head()"
   ],
   "metadata": {
    "collapsed": false,
    "ExecuteTime": {
     "end_time": "2023-10-05T19:57:33.264909Z",
     "start_time": "2023-10-05T19:57:33.254294Z"
    }
   },
   "id": "cd221f5feca66000"
  },
  {
   "cell_type": "code",
   "execution_count": 19,
   "outputs": [
    {
     "data": {
      "text/plain": "           Undergraduate Major   Spread\n40                     Nursing  50700.0\n43         Physician Assistant  57600.0\n41                   Nutrition  65300.0\n49                     Spanish  65400.0\n27  Health Care Administration  66400.0",
      "text/html": "<div>\n<style scoped>\n    .dataframe tbody tr th:only-of-type {\n        vertical-align: middle;\n    }\n\n    .dataframe tbody tr th {\n        vertical-align: top;\n    }\n\n    .dataframe thead th {\n        text-align: right;\n    }\n</style>\n<table border=\"1\" class=\"dataframe\">\n  <thead>\n    <tr style=\"text-align: right;\">\n      <th></th>\n      <th>Undergraduate Major</th>\n      <th>Spread</th>\n    </tr>\n  </thead>\n  <tbody>\n    <tr>\n      <th>40</th>\n      <td>Nursing</td>\n      <td>50700.0</td>\n    </tr>\n    <tr>\n      <th>43</th>\n      <td>Physician Assistant</td>\n      <td>57600.0</td>\n    </tr>\n    <tr>\n      <th>41</th>\n      <td>Nutrition</td>\n      <td>65300.0</td>\n    </tr>\n    <tr>\n      <th>49</th>\n      <td>Spanish</td>\n      <td>65400.0</td>\n    </tr>\n    <tr>\n      <th>27</th>\n      <td>Health Care Administration</td>\n      <td>66400.0</td>\n    </tr>\n  </tbody>\n</table>\n</div>"
     },
     "execution_count": 19,
     "metadata": {},
     "output_type": "execute_result"
    }
   ],
   "source": [
    "low_risk = clean_df.sort_values('Spread')\n",
    "low_risk[['Undergraduate Major', 'Spread']].head()"
   ],
   "metadata": {
    "collapsed": false,
    "ExecuteTime": {
     "end_time": "2023-10-05T19:59:21.487116Z",
     "start_time": "2023-10-05T19:59:21.483297Z"
    }
   },
   "id": "51becc0a744cbc96"
  },
  {
   "cell_type": "code",
   "execution_count": 21,
   "outputs": [
    {
     "data": {
      "text/plain": "     Undergraduate Major    Spread  Starting Median Salary  \\\n17             Economics  159400.0                 50100.0   \n22               Finance  147800.0                 47900.0   \n8   Chemical Engineering  122100.0                 63200.0   \n37                  Math  137800.0                 45400.0   \n44               Physics  122000.0                 50300.0   \n\n    Mid-Career Median Salary  Mid-Career 10th Percentile Salary  \\\n17                   98600.0                            50600.0   \n22                   88300.0                            47200.0   \n8                   107000.0                            71900.0   \n37                   92400.0                            45200.0   \n44                   97300.0                            56000.0   \n\n    Mid-Career 90th Percentile Salary     Group  \n17                           210000.0  Business  \n22                           195000.0  Business  \n8                            194000.0      STEM  \n37                           183000.0      STEM  \n44                           178000.0      STEM  ",
      "text/html": "<div>\n<style scoped>\n    .dataframe tbody tr th:only-of-type {\n        vertical-align: middle;\n    }\n\n    .dataframe tbody tr th {\n        vertical-align: top;\n    }\n\n    .dataframe thead th {\n        text-align: right;\n    }\n</style>\n<table border=\"1\" class=\"dataframe\">\n  <thead>\n    <tr style=\"text-align: right;\">\n      <th></th>\n      <th>Undergraduate Major</th>\n      <th>Spread</th>\n      <th>Starting Median Salary</th>\n      <th>Mid-Career Median Salary</th>\n      <th>Mid-Career 10th Percentile Salary</th>\n      <th>Mid-Career 90th Percentile Salary</th>\n      <th>Group</th>\n    </tr>\n  </thead>\n  <tbody>\n    <tr>\n      <th>17</th>\n      <td>Economics</td>\n      <td>159400.0</td>\n      <td>50100.0</td>\n      <td>98600.0</td>\n      <td>50600.0</td>\n      <td>210000.0</td>\n      <td>Business</td>\n    </tr>\n    <tr>\n      <th>22</th>\n      <td>Finance</td>\n      <td>147800.0</td>\n      <td>47900.0</td>\n      <td>88300.0</td>\n      <td>47200.0</td>\n      <td>195000.0</td>\n      <td>Business</td>\n    </tr>\n    <tr>\n      <th>8</th>\n      <td>Chemical Engineering</td>\n      <td>122100.0</td>\n      <td>63200.0</td>\n      <td>107000.0</td>\n      <td>71900.0</td>\n      <td>194000.0</td>\n      <td>STEM</td>\n    </tr>\n    <tr>\n      <th>37</th>\n      <td>Math</td>\n      <td>137800.0</td>\n      <td>45400.0</td>\n      <td>92400.0</td>\n      <td>45200.0</td>\n      <td>183000.0</td>\n      <td>STEM</td>\n    </tr>\n    <tr>\n      <th>44</th>\n      <td>Physics</td>\n      <td>122000.0</td>\n      <td>50300.0</td>\n      <td>97300.0</td>\n      <td>56000.0</td>\n      <td>178000.0</td>\n      <td>STEM</td>\n    </tr>\n  </tbody>\n</table>\n</div>"
     },
     "execution_count": 21,
     "metadata": {},
     "output_type": "execute_result"
    }
   ],
   "source": [
    "# Highest potential\n",
    "clean_df.sort_values('Mid-Career 90th Percentile Salary', ascending=False).head()"
   ],
   "metadata": {
    "collapsed": false,
    "ExecuteTime": {
     "end_time": "2023-10-05T20:01:33.450218Z",
     "start_time": "2023-10-05T20:01:33.442914Z"
    }
   },
   "id": "16c03fb793db43b7"
  },
  {
   "cell_type": "code",
   "execution_count": 22,
   "outputs": [
    {
     "data": {
      "text/plain": "   Undergraduate Major    Spread\n42          Philosophy  132500.0\n36           Marketing  132900.0\n37                Math  137800.0\n22             Finance  147800.0\n17           Economics  159400.0",
      "text/html": "<div>\n<style scoped>\n    .dataframe tbody tr th:only-of-type {\n        vertical-align: middle;\n    }\n\n    .dataframe tbody tr th {\n        vertical-align: top;\n    }\n\n    .dataframe thead th {\n        text-align: right;\n    }\n</style>\n<table border=\"1\" class=\"dataframe\">\n  <thead>\n    <tr style=\"text-align: right;\">\n      <th></th>\n      <th>Undergraduate Major</th>\n      <th>Spread</th>\n    </tr>\n  </thead>\n  <tbody>\n    <tr>\n      <th>42</th>\n      <td>Philosophy</td>\n      <td>132500.0</td>\n    </tr>\n    <tr>\n      <th>36</th>\n      <td>Marketing</td>\n      <td>132900.0</td>\n    </tr>\n    <tr>\n      <th>37</th>\n      <td>Math</td>\n      <td>137800.0</td>\n    </tr>\n    <tr>\n      <th>22</th>\n      <td>Finance</td>\n      <td>147800.0</td>\n    </tr>\n    <tr>\n      <th>17</th>\n      <td>Economics</td>\n      <td>159400.0</td>\n    </tr>\n  </tbody>\n</table>\n</div>"
     },
     "execution_count": 22,
     "metadata": {},
     "output_type": "execute_result"
    }
   ],
   "source": [
    "# Greatest spreads\n",
    "low_risk[['Undergraduate Major', 'Spread']].tail()"
   ],
   "metadata": {
    "collapsed": false,
    "ExecuteTime": {
     "end_time": "2023-10-05T20:02:35.310985Z",
     "start_time": "2023-10-05T20:02:35.307612Z"
    }
   },
   "id": "5cc12ca11c2606fc"
  },
  {
   "cell_type": "code",
   "execution_count": 23,
   "outputs": [
    {
     "data": {
      "text/plain": "          Undergraduate Major  Spread  Starting Median Salary  \\\nGroup                                                           \nBusiness                   12      12                      12   \nHASS                       22      22                      22   \nSTEM                       16      16                      16   \n\n          Mid-Career Median Salary  Mid-Career 10th Percentile Salary  \\\nGroup                                                                   \nBusiness                        12                                 12   \nHASS                            22                                 22   \nSTEM                            16                                 16   \n\n          Mid-Career 90th Percentile Salary  \nGroup                                        \nBusiness                                 12  \nHASS                                     22  \nSTEM                                     16  ",
      "text/html": "<div>\n<style scoped>\n    .dataframe tbody tr th:only-of-type {\n        vertical-align: middle;\n    }\n\n    .dataframe tbody tr th {\n        vertical-align: top;\n    }\n\n    .dataframe thead th {\n        text-align: right;\n    }\n</style>\n<table border=\"1\" class=\"dataframe\">\n  <thead>\n    <tr style=\"text-align: right;\">\n      <th></th>\n      <th>Undergraduate Major</th>\n      <th>Spread</th>\n      <th>Starting Median Salary</th>\n      <th>Mid-Career Median Salary</th>\n      <th>Mid-Career 10th Percentile Salary</th>\n      <th>Mid-Career 90th Percentile Salary</th>\n    </tr>\n    <tr>\n      <th>Group</th>\n      <th></th>\n      <th></th>\n      <th></th>\n      <th></th>\n      <th></th>\n      <th></th>\n    </tr>\n  </thead>\n  <tbody>\n    <tr>\n      <th>Business</th>\n      <td>12</td>\n      <td>12</td>\n      <td>12</td>\n      <td>12</td>\n      <td>12</td>\n      <td>12</td>\n    </tr>\n    <tr>\n      <th>HASS</th>\n      <td>22</td>\n      <td>22</td>\n      <td>22</td>\n      <td>22</td>\n      <td>22</td>\n      <td>22</td>\n    </tr>\n    <tr>\n      <th>STEM</th>\n      <td>16</td>\n      <td>16</td>\n      <td>16</td>\n      <td>16</td>\n      <td>16</td>\n      <td>16</td>\n    </tr>\n  </tbody>\n</table>\n</div>"
     },
     "execution_count": 23,
     "metadata": {},
     "output_type": "execute_result"
    }
   ],
   "source": [
    "clean_df.groupby('Group').count()"
   ],
   "metadata": {
    "collapsed": false,
    "ExecuteTime": {
     "end_time": "2023-10-05T20:04:59.985784Z",
     "start_time": "2023-10-05T20:04:59.960664Z"
    }
   },
   "id": "98db5f80ae04a43f"
  },
  {
   "cell_type": "code",
   "execution_count": 29,
   "outputs": [
    {
     "data": {
      "text/plain": "             Spread  Starting Median Salary  Mid-Career Median Salary  \\\nGroup                                                                   \nBusiness 103,958.33               44,633.33                 75,083.33   \nHASS      95,218.18               37,186.36                 62,968.18   \nSTEM     101,600.00               53,862.50                 90,812.50   \n\n          Mid-Career 10th Percentile Salary  Mid-Career 90th Percentile Salary  \nGroup                                                                           \nBusiness                          43,566.67                         147,525.00  \nHASS                              34,145.45                         129,363.64  \nSTEM                              56,025.00                         157,625.00  ",
      "text/html": "<div>\n<style scoped>\n    .dataframe tbody tr th:only-of-type {\n        vertical-align: middle;\n    }\n\n    .dataframe tbody tr th {\n        vertical-align: top;\n    }\n\n    .dataframe thead th {\n        text-align: right;\n    }\n</style>\n<table border=\"1\" class=\"dataframe\">\n  <thead>\n    <tr style=\"text-align: right;\">\n      <th></th>\n      <th>Spread</th>\n      <th>Starting Median Salary</th>\n      <th>Mid-Career Median Salary</th>\n      <th>Mid-Career 10th Percentile Salary</th>\n      <th>Mid-Career 90th Percentile Salary</th>\n    </tr>\n    <tr>\n      <th>Group</th>\n      <th></th>\n      <th></th>\n      <th></th>\n      <th></th>\n      <th></th>\n    </tr>\n  </thead>\n  <tbody>\n    <tr>\n      <th>Business</th>\n      <td>103,958.33</td>\n      <td>44,633.33</td>\n      <td>75,083.33</td>\n      <td>43,566.67</td>\n      <td>147,525.00</td>\n    </tr>\n    <tr>\n      <th>HASS</th>\n      <td>95,218.18</td>\n      <td>37,186.36</td>\n      <td>62,968.18</td>\n      <td>34,145.45</td>\n      <td>129,363.64</td>\n    </tr>\n    <tr>\n      <th>STEM</th>\n      <td>101,600.00</td>\n      <td>53,862.50</td>\n      <td>90,812.50</td>\n      <td>56,025.00</td>\n      <td>157,625.00</td>\n    </tr>\n  </tbody>\n</table>\n</div>"
     },
     "execution_count": 29,
     "metadata": {},
     "output_type": "execute_result"
    }
   ],
   "source": [
    "pd.options.display.float_format = '{:,.2f}'.format\n",
    "clean_df.loc[:, clean_df.columns!='Undergraduate Major'].groupby('Group').mean()"
   ],
   "metadata": {
    "collapsed": false,
    "ExecuteTime": {
     "end_time": "2023-10-05T20:11:08.269888Z",
     "start_time": "2023-10-05T20:11:08.264253Z"
    }
   },
   "id": "ef3cc16f52a7b279"
  },
  {
   "cell_type": "code",
   "execution_count": 38,
   "outputs": [
    {
     "data": {
      "text/plain": "     Rank                                              Major  \\\n0  Rank:1                        Major:Petroleum Engineering   \n1  Rank:2  Major:Operations Research & Industrial Enginee...   \n2  Rank:3                           Major:Interaction Design   \n3  Rank:4             Major:Applied Economics and Management   \n4  Rank:5                             Major:Building Science   \n\n             Degree Type          Early Career Pay           Mid-Career Pay  \\\n0  Degree Type:Bachelors  Early Career Pay:$97,500  Mid-Career Pay:$212,500   \n1  Degree Type:Bachelors  Early Career Pay:$98,300  Mid-Career Pay:$191,800   \n2  Degree Type:Bachelors  Early Career Pay:$74,700  Mid-Career Pay:$173,600   \n3  Degree Type:Bachelors  Early Career Pay:$76,500  Mid-Career Pay:$164,400   \n4  Degree Type:Bachelors  Early Career Pay:$69,000  Mid-Career Pay:$163,100   \n\n       % High Meaning  \n0  % High Meaning:61%  \n1  % High Meaning:21%  \n2  % High Meaning:54%  \n3  % High Meaning:54%  \n4  % High Meaning:47%  ",
      "text/html": "<div>\n<style scoped>\n    .dataframe tbody tr th:only-of-type {\n        vertical-align: middle;\n    }\n\n    .dataframe tbody tr th {\n        vertical-align: top;\n    }\n\n    .dataframe thead th {\n        text-align: right;\n    }\n</style>\n<table border=\"1\" class=\"dataframe\">\n  <thead>\n    <tr style=\"text-align: right;\">\n      <th></th>\n      <th>Rank</th>\n      <th>Major</th>\n      <th>Degree Type</th>\n      <th>Early Career Pay</th>\n      <th>Mid-Career Pay</th>\n      <th>% High Meaning</th>\n    </tr>\n  </thead>\n  <tbody>\n    <tr>\n      <th>0</th>\n      <td>Rank:1</td>\n      <td>Major:Petroleum Engineering</td>\n      <td>Degree Type:Bachelors</td>\n      <td>Early Career Pay:$97,500</td>\n      <td>Mid-Career Pay:$212,500</td>\n      <td>% High Meaning:61%</td>\n    </tr>\n    <tr>\n      <th>1</th>\n      <td>Rank:2</td>\n      <td>Major:Operations Research &amp; Industrial Enginee...</td>\n      <td>Degree Type:Bachelors</td>\n      <td>Early Career Pay:$98,300</td>\n      <td>Mid-Career Pay:$191,800</td>\n      <td>% High Meaning:21%</td>\n    </tr>\n    <tr>\n      <th>2</th>\n      <td>Rank:3</td>\n      <td>Major:Interaction Design</td>\n      <td>Degree Type:Bachelors</td>\n      <td>Early Career Pay:$74,700</td>\n      <td>Mid-Career Pay:$173,600</td>\n      <td>% High Meaning:54%</td>\n    </tr>\n    <tr>\n      <th>3</th>\n      <td>Rank:4</td>\n      <td>Major:Applied Economics and Management</td>\n      <td>Degree Type:Bachelors</td>\n      <td>Early Career Pay:$76,500</td>\n      <td>Mid-Career Pay:$164,400</td>\n      <td>% High Meaning:54%</td>\n    </tr>\n    <tr>\n      <th>4</th>\n      <td>Rank:5</td>\n      <td>Major:Building Science</td>\n      <td>Degree Type:Bachelors</td>\n      <td>Early Career Pay:$69,000</td>\n      <td>Mid-Career Pay:$163,100</td>\n      <td>% High Meaning:47%</td>\n    </tr>\n  </tbody>\n</table>\n</div>"
     },
     "execution_count": 38,
     "metadata": {},
     "output_type": "execute_result"
    }
   ],
   "source": [
    "update_dfs = pd.read_html('https://www.payscale.com/college-salary-report/majors-that-pay-you-back/bachelors')\n",
    "update_dfs[0].head()"
   ],
   "metadata": {
    "collapsed": false,
    "ExecuteTime": {
     "end_time": "2023-10-05T20:24:22.196844Z",
     "start_time": "2023-10-05T20:24:22.017458Z"
    }
   },
   "id": "184bd1d9b0efd63e"
  },
  {
   "cell_type": "code",
   "execution_count": null,
   "outputs": [],
   "source": [],
   "metadata": {
    "collapsed": false
   },
   "id": "428d441d0ccf4733"
  }
 ],
 "metadata": {
  "kernelspec": {
   "display_name": "Python 3",
   "language": "python",
   "name": "python3"
  },
  "language_info": {
   "codemirror_mode": {
    "name": "ipython",
    "version": 2
   },
   "file_extension": ".py",
   "mimetype": "text/x-python",
   "name": "python",
   "nbconvert_exporter": "python",
   "pygments_lexer": "ipython2",
   "version": "2.7.6"
  }
 },
 "nbformat": 4,
 "nbformat_minor": 5
}
